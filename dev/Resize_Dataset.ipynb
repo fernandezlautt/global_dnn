{
  "nbformat": 4,
  "nbformat_minor": 0,
  "metadata": {
    "colab": {
      "provenance": []
    },
    "kernelspec": {
      "name": "python3",
      "display_name": "Python 3"
    },
    "language_info": {
      "name": "python"
    }
  },
  "cells": [
    {
      "cell_type": "code",
      "execution_count": null,
      "metadata": {
        "id": "sBC-NqAWxgWw"
      },
      "outputs": [],
      "source": [
        "import os\n",
        "from torchvision import transforms\n",
        "from PIL import Image\n",
        "from pathlib import Path"
      ]
    },
    {
      "cell_type": "code",
      "source": [
        "import kagglehub\n",
        "\n",
        "# Download latest version\n",
        "path = kagglehub.dataset_download(\"okarif/carla-parired-images\")\n",
        "\n",
        "print(\"Path to dataset files:\", path)"
      ],
      "metadata": {
        "colab": {
          "base_uri": "https://localhost:8080/"
        },
        "id": "CMcLfNRIx7Iz",
        "outputId": "e81e162b-a9f2-4bfa-e5d8-fe1a9ca27a70"
      },
      "execution_count": null,
      "outputs": [
        {
          "output_type": "stream",
          "name": "stdout",
          "text": [
            "Downloading from https://www.kaggle.com/api/v1/datasets/download/okarif/carla-parired-images?dataset_version_number=3...\n"
          ]
        },
        {
          "output_type": "stream",
          "name": "stderr",
          "text": [
            "100%|██████████| 4.07G/4.07G [00:49<00:00, 88.0MB/s]"
          ]
        },
        {
          "output_type": "stream",
          "name": "stdout",
          "text": [
            "Extracting files...\n"
          ]
        },
        {
          "output_type": "stream",
          "name": "stderr",
          "text": [
            "\n"
          ]
        },
        {
          "output_type": "stream",
          "name": "stdout",
          "text": [
            "Path to dataset files: /root/.cache/kagglehub/datasets/okarif/carla-parired-images/versions/3\n"
          ]
        }
      ]
    },
    {
      "cell_type": "code",
      "source": [
        "!cp -r /root/.cache/kagglehub/datasets/okarif/carla-parired-images/versions/3/data_carla /content/data_carla"
      ],
      "metadata": {
        "id": "FCxMSZKKyD62"
      },
      "execution_count": null,
      "outputs": []
    },
    {
      "cell_type": "code",
      "source": [
        "def crop_and_save_images(input_dir, output_dir, crop_size=(224, 224)):\n",
        "    transform = transforms.Resize(crop_size)\n",
        "\n",
        "    Path(output_dir).mkdir(parents=True, exist_ok=True)\n",
        "\n",
        "    for root, dirs, files in os.walk(input_dir):\n",
        "        relative_path = os.path.relpath(root, input_dir)\n",
        "        target_folder = os.path.join(output_dir, relative_path)\n",
        "        Path(target_folder).mkdir(parents=True, exist_ok=True)\n",
        "\n",
        "        for file in files:\n",
        "            if file.lower().endswith(('.png')):\n",
        "                input_file_path = os.path.join(root, file)\n",
        "                output_file_path = os.path.join(target_folder, file)\n",
        "\n",
        "                try:\n",
        "                    image = Image.open(input_file_path).convert(\"RGB\")\n",
        "                    cropped_image = transform(image)\n",
        "                    cropped_image.save(output_file_path)\n",
        "                    # print(f\"Procesada: {input_file_path} -> {output_file_path}\")\n",
        "                except Exception as e:\n",
        "                    print(f\"Error procesando {input_file_path}: {e}\")"
      ],
      "metadata": {
        "id": "krSHjMQsxky8"
      },
      "execution_count": null,
      "outputs": []
    },
    {
      "cell_type": "code",
      "source": [
        "input_folder = \"data_carla\"\n",
        "output_folder = \"resized_data_carla\"\n",
        "crop_and_save_images(input_folder, output_folder,(300,300))"
      ],
      "metadata": {
        "id": "gmAm4IoAxmGr"
      },
      "execution_count": null,
      "outputs": []
    },
    {
      "cell_type": "code",
      "source": [
        "import shutil\n",
        "from google.colab import files\n",
        "\n",
        "shutil.make_archive(output_folder, 'zip', output_folder)\n",
        "\n",
        "files.download(f\"{output_folder}.zip\")\n"
      ],
      "metadata": {
        "colab": {
          "base_uri": "https://localhost:8080/",
          "height": 34
        },
        "id": "5dZJxRyW1Nn4",
        "outputId": "4a8525c2-bcc1-4b9a-96da-ea9b16e95f43"
      },
      "execution_count": null,
      "outputs": [
        {
          "output_type": "display_data",
          "data": {
            "text/plain": [
              "<IPython.core.display.Javascript object>"
            ],
            "application/javascript": [
              "\n",
              "    async function download(id, filename, size) {\n",
              "      if (!google.colab.kernel.accessAllowed) {\n",
              "        return;\n",
              "      }\n",
              "      const div = document.createElement('div');\n",
              "      const label = document.createElement('label');\n",
              "      label.textContent = `Downloading \"${filename}\": `;\n",
              "      div.appendChild(label);\n",
              "      const progress = document.createElement('progress');\n",
              "      progress.max = size;\n",
              "      div.appendChild(progress);\n",
              "      document.body.appendChild(div);\n",
              "\n",
              "      const buffers = [];\n",
              "      let downloaded = 0;\n",
              "\n",
              "      const channel = await google.colab.kernel.comms.open(id);\n",
              "      // Send a message to notify the kernel that we're ready.\n",
              "      channel.send({})\n",
              "\n",
              "      for await (const message of channel.messages) {\n",
              "        // Send a message to notify the kernel that we're ready.\n",
              "        channel.send({})\n",
              "        if (message.buffers) {\n",
              "          for (const buffer of message.buffers) {\n",
              "            buffers.push(buffer);\n",
              "            downloaded += buffer.byteLength;\n",
              "            progress.value = downloaded;\n",
              "          }\n",
              "        }\n",
              "      }\n",
              "      const blob = new Blob(buffers, {type: 'application/binary'});\n",
              "      const a = document.createElement('a');\n",
              "      a.href = window.URL.createObjectURL(blob);\n",
              "      a.download = filename;\n",
              "      div.appendChild(a);\n",
              "      a.click();\n",
              "      div.remove();\n",
              "    }\n",
              "  "
            ]
          },
          "metadata": {}
        },
        {
          "output_type": "display_data",
          "data": {
            "text/plain": [
              "<IPython.core.display.Javascript object>"
            ],
            "application/javascript": [
              "download(\"download_93800068-2021-46ed-a397-971878413ce7\", \"resized_data_carla.zip\", 202682514)"
            ]
          },
          "metadata": {}
        }
      ]
    },
    {
      "cell_type": "markdown",
      "source": [],
      "metadata": {
        "id": "e9FQF6gDxzLT"
      }
    }
  ]
}